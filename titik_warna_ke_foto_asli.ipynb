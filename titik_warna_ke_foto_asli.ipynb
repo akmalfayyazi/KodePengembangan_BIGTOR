{
  "nbformat": 4,
  "nbformat_minor": 0,
  "metadata": {
    "colab": {
      "provenance": []
    },
    "kernelspec": {
      "name": "python3",
      "display_name": "Python 3"
    },
    "language_info": {
      "name": "python"
    }
  },
  "cells": [
    {
      "cell_type": "code",
      "execution_count": null,
      "metadata": {
        "id": "jCQFx9vMxm0d"
      },
      "outputs": [],
      "source": [
        "import matplotlib.pyplot as plt\n",
        "\n",
        "output_img = rgb.copy()\n",
        "colors = {0: (255, 0, 0), 1: (0, 255, 0)}  # 0=sakit, 1=sehat\n",
        "\n",
        "for (cx, cy), label in zip(centers, labels):\n",
        "    cv2.circle(output_img, (cx, cy), 12, colors[label], -1)\n",
        "\n",
        "hasil_path = \"hasil_titik_kesehatan.jpg\"\n",
        "cv2.imwrite(hasil_path, cv2.cvtColor(output_img, cv2.COLOR_RGB2BGR))\n",
        "\n",
        "plt.figure(figsize=(10, 10))\n",
        "plt.imshow(output_img)\n",
        "plt.axis('off')\n",
        "plt.title(\"Titik Kesehatan Sawit\")\n",
        "plt.show()\n"
      ]
    }
  ]
}
