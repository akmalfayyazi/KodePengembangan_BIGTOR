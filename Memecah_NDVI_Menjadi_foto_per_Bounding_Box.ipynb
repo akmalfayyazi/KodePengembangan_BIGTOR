{
  "nbformat": 4,
  "nbformat_minor": 0,
  "metadata": {
    "colab": {
      "provenance": []
    },
    "kernelspec": {
      "name": "python3",
      "display_name": "Python 3"
    },
    "language_info": {
      "name": "python"
    }
  },
  "cells": [
    {
      "cell_type": "code",
      "execution_count": null,
      "metadata": {
        "id": "jCQFx9vMxm0d"
      },
      "outputs": [],
      "source": [
        "ndvi_img = cv2.imread(ndvi_mask_path)\n",
        "ndvi_img = cv2.cvtColor(ndvi_img, cv2.COLOR_BGR2RGB)\n",
        "\n",
        "crops, centers = [], []\n",
        "\n",
        "for (x1, y1, x2, y2) in boxes:\n",
        "    x1, y1, x2, y2 = map(int, [x1, y1, x2, y2])\n",
        "    crops.append(ndvi_img[y1:y2, x1:x2])\n",
        "    centers.append(((x1 + x2) // 2, (y1 + y2) // 2))\n"
      ]
    }
  ]
}