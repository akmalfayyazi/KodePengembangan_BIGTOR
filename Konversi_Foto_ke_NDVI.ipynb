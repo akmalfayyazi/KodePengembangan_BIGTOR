{
  "nbformat": 4,
  "nbformat_minor": 0,
  "metadata": {
    "colab": {
      "provenance": []
    },
    "kernelspec": {
      "name": "python3",
      "display_name": "Python 3"
    },
    "language_info": {
      "name": "python"
    }
  },
  "cells": [
    {
      "cell_type": "code",
      "execution_count": null,
      "metadata": {
        "id": "jCQFx9vMxm0d"
      },
      "outputs": [],
      "source": [
        "import cv2\n",
        "import numpy as np\n",
        "\n",
        "# --- LOAD INPUT IMAGE ---\n",
        "img = cv2.imread(input_path, cv2.IMREAD_UNCHANGED)\n",
        "\n",
        "# --- SPLIT 4 BANDS ---\n",
        "B, G, R, NIR = cv2.split(img)\n",
        "R = R.astype(np.float32)\n",
        "NIR = NIR.astype(np.float32)\n",
        "\n",
        "# --- COMPUTE NDVI ---\n",
        "bottom = NIR + R\n",
        "bottom[bottom == 0] = 0.01\n",
        "ndvi = (NIR - R) / bottom\n",
        "\n",
        "# --- NDVI THRESHOLDS ---\n",
        "NDVI_LOW = 0.11\n",
        "NDVI_MED = 0.22\n",
        "NDVI_HIGH = 0.42\n",
        "\n",
        "# --- CREATE MASK WITH THRESHOLD COLORS ---\n",
        "mask = np.zeros((img.shape[0], img.shape[1], 3), dtype=np.uint8)\n",
        "mask[ndvi < NDVI_LOW] = [0, 0, 255]               # Red = non-vegetation\n",
        "mask[(ndvi >= NDVI_LOW) & (ndvi < NDVI_MED)] = [0, 255, 255]   # Yellow = unhealthy\n",
        "mask[(ndvi >= NDVI_MED) & (ndvi < NDVI_HIGH)] = [0, 165, 255]  # Orange = mid\n",
        "mask[ndvi >= NDVI_HIGH] = [0, 255, 0]              # Green = healthy\n",
        "\n",
        "# --- BLEND WITH RGB ---\n",
        "B = B.astype(np.uint8)\n",
        "G = G.astype(np.uint8)\n",
        "R = R.astype(np.uint8)\n",
        "rgb = cv2.merge([B, G, R])\n",
        "ndvi_mask = cv2.addWeighted(rgb, 0.4, mask, 0.6, 0)\n",
        "\n",
        "# --- SAVE NDVI MASK ---\n",
        "cv2.imwrite(\"ndvi_mask.jpg\", ndvi_mask)\n"
      ]
    }
  ]
}